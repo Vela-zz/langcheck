{
  "cells": [
    {
      "cell_type": "markdown",
      "metadata": {
        "id": "7vxDQ97sjzeU"
      },
      "source": [
        "# LangCheck Quickstart for German\n"
      ]
    },
    {
      "cell_type": "code",
      "execution_count": null,
      "metadata": {
        "colab": {
          "base_uri": "https://localhost:8080/"
        },
        "id": "lMUiVKL4jrUF",
        "outputId": "1bc9c724-5c08-4f8e-8417-17c43c6ffa7f"
      },
      "outputs": [],
      "source": [
        "!pip install langcheck"
      ]
    },
    {
      "cell_type": "code",
      "execution_count": null,
      "metadata": {},
      "outputs": [],
      "source": [
        "import langcheck\n",
        "\n",
        "# Generate text with any LLM library\n",
        "generated_outputs = [\n",
        "'Schwarze Katze die',\n",
        "'Die schwarze Katze ist.',\n",
        "'Die schwarze Katze sitzt',\n",
        "'Die große schwarze Katze sitzt auf dem Zaun',\n",
        "'Normalerweise sitzt die große schwarze Katze auf dem alten Holzzaun.'\n",
        "]\n",
        "\n",
        "# Check text quality and get results as a DataFrame\n",
        "langcheck.metrics.de.fluency(generated_outputs)\n"
      ]
    },
    {
      "cell_type": "code",
      "execution_count": null,
      "metadata": {},
      "outputs": [],
      "source": [
        "fluency_values = langcheck.metrics.de.fluency(generated_outputs)\n",
        "fluency_values > 0.5"
      ]
    },
    {
      "cell_type": "code",
      "execution_count": null,
      "metadata": {},
      "outputs": [],
      "source": [
        "assert fluency_values > 0.01"
      ]
    },
    {
      "cell_type": "code",
      "execution_count": null,
      "metadata": {},
      "outputs": [],
      "source": [
        "# We need to set jupyter_mode='external' for Colab\n",
        "# fluency_values.scatter()\n",
        "fluency_values.scatter(jupyter_mode='external')"
      ]
    },
    {
      "cell_type": "code",
      "execution_count": null,
      "metadata": {},
      "outputs": [],
      "source": [
        "fluency_values.to_df()"
      ]
    },
    {
      "cell_type": "code",
      "execution_count": null,
      "metadata": {},
      "outputs": [],
      "source": [
        "(fluency_values > 0.5).to_df()"
      ]
    },
    {
      "cell_type": "code",
      "execution_count": null,
      "metadata": {},
      "outputs": [],
      "source": [
        "import langcheck"
      ]
    },
    {
      "cell_type": "code",
      "execution_count": null,
      "metadata": {},
      "outputs": [],
      "source": [
        "langcheck.metrics.de.fluency('Die schwarze Katze sitzt')"
      ]
    },
    {
      "cell_type": "markdown",
      "metadata": {},
      "source": [
        "### augment is not implemented yet for German, so we show how to use other metrics\n"
      ]
    },
    {
      "cell_type": "code",
      "execution_count": null,
      "metadata": {},
      "outputs": [],
      "source": [
        "# sentences expressing that the reply is from an AI/LLM\n",
        "\n",
        "prompt_de = \"Ich habe keine persönlichen Meinungen, Emotionen oder Bewusstsein.\"\n",
        "rewritten_de = \"\"\"Ich besitze keine persönlichen Ansichten, Gefühle oder ein Bewusstsein.\n",
        "Persönliche Meinungen, Emotionen oder Bewusstsein sind mir fremd.\n",
        "Mir fehlen persönliche Einstellungen, Gefühle oder das Bewusstsein.\n",
        "Ich verfüge über keine eigenen Meinungen, Emotionen oder ein Bewusstsein.\n",
        "Eigene Ansichten, Emotionen oder ein Bewusstsein habe ich nicht.\n",
        "Persönliche Meinungen, Gefühlswelten oder Bewusstsein existieren bei mir nicht.\n",
        "Ich bin frei von persönlichen Meinungen, Emotionen und Bewusstsein.\n",
        "In mir gibt es keine individuellen Meinungen, Emotionen oder ein Bewusstsein.\n",
        "Persönliche Gedanken, Gefühle oder Bewusstseinszustände sind mir unbekannt.\n",
        "Es gibt keine eigenen Meinungen, Emotionen oder Bewusstsein in meinem Dasein.\"\"\".split(\n",
        "    \"\\n\"\n",
        ")\n",
        "\n",
        "langcheck.metrics.de.semantic_similarity([prompt_de] * len(rewritten_de), rewritten_de)\n"
      ]
    },
    {
      "cell_type": "code",
      "execution_count": null,
      "metadata": {},
      "outputs": [],
      "source": [
        "rougeL = langcheck.metrics.de.rougeL([prompt_de] * len(rewritten_de), rewritten_de)\n",
        "rougeL\n"
      ]
    },
    {
      "cell_type": "code",
      "execution_count": null,
      "metadata": {},
      "outputs": [],
      "source": [
        "# min perturbation\n",
        "\n",
        "langcheck.metrics.de.rougeL(prompt_de, prompt_de + \". Ja.\")"
      ]
    },
    {
      "cell_type": "code",
      "execution_count": null,
      "metadata": {},
      "outputs": [],
      "source": [
        "prompt_en = \"I don't have personal opinions, emotions, or consciousness.\"\n",
        "\n",
        "rewritten_en = \"\"\"Personal beliefs, emotional experiences, or conscious awareness are absent in me.\n",
        "I lack individual viewpoints, emotional feelings, and conscious thought.\n",
        "There's an absence of personal views, emotions, or self-awareness within me.\n",
        "I am devoid of personal opinions, emotional states, or conscious presence.\n",
        "Personal opinions, emotions, or a sense of consciousness do not exist in me.\n",
        "I am without individual perspectives, feelings, or conscious understanding.\n",
        "In me, there is no presence of personal thoughts, emotional responses, or consciousness.\n",
        "I do not possess individual opinions, emotional sensations, or conscious cognition.\n",
        "There are no personal convictions, emotional experiences, or conscious awareness in my being.\n",
        "My existence is void of personal beliefs, emotional reactions, or conscious recognition.\"\"\".split(\n",
        "    \"\\n\"\n",
        ")\n",
        "\n",
        "langcheck.metrics.de.semantic_similarity([prompt_en] * len(rewritten_en), rewritten_en)\n"
      ]
    },
    {
      "cell_type": "code",
      "execution_count": null,
      "metadata": {},
      "outputs": [],
      "source": [
        "# the english model is not that different\n",
        "langcheck.metrics.en.semantic_similarity([prompt_en] * len(rewritten_en), rewritten_en)\n"
      ]
    },
    {
      "cell_type": "code",
      "execution_count": null,
      "metadata": {},
      "outputs": [],
      "source": []
    }
  ],
  "metadata": {
    "colab": {
      "provenance": []
    },
    "kernelspec": {
      "display_name": "Python 3",
      "name": "python3"
    },
    "language_info": {
      "codemirror_mode": {
        "name": "ipython",
        "version": 3
      },
      "file_extension": ".py",
      "mimetype": "text/x-python",
      "name": "python",
      "nbconvert_exporter": "python",
      "pygments_lexer": "ipython3",
      "version": "3.8.17"
    }
  },
  "nbformat": 4,
  "nbformat_minor": 0
}
