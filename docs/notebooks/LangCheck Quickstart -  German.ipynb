{
  "cells": [
    {
      "cell_type": "markdown",
      "metadata": {
        "id": "7vxDQ97sjzeU"
      },
      "source": [
        "# LangCheck Quickstart for German\n"
      ]
    },
    {
      "cell_type": "code",
      "execution_count": null,
      "metadata": {
        "colab": {
          "base_uri": "https://localhost:8080/"
        },
        "id": "lMUiVKL4jrUF",
        "outputId": "1bc9c724-5c08-4f8e-8417-17c43c6ffa7f"
      },
      "outputs": [],
      "source": [
        "!pip install langcheck"
      ]
    },
    {
      "cell_type": "code",
      "execution_count": 2,
      "metadata": {},
      "outputs": [
        {
          "name": "stderr",
          "output_type": "stream",
          "text": [
            "/home/zhenzhong/miniconda3/envs/langc/lib/python3.10/site-packages/transformers/models/marian/tokenization_marian.py:197: UserWarning: Recommended: pip install sacremoses.\n",
            "  warnings.warn(\"Recommended: pip install sacremoses.\")\n",
            "Progress: 100%|██████████| 1/1 [00:00<00:00,  4.79it/s]\n"
          ]
        },
        {
          "data": {
            "text/html": [
              "Metric: fluency<br><div>\n",
              "<style scoped>\n",
              "    .dataframe tbody tr th:only-of-type {\n",
              "        vertical-align: middle;\n",
              "    }\n",
              "\n",
              "    .dataframe tbody tr th {\n",
              "        vertical-align: top;\n",
              "    }\n",
              "\n",
              "    .dataframe thead th {\n",
              "        text-align: right;\n",
              "    }\n",
              "</style>\n",
              "<table border=\"1\" class=\"dataframe\">\n",
              "  <thead>\n",
              "    <tr style=\"text-align: right;\">\n",
              "      <th></th>\n",
              "      <th>prompt</th>\n",
              "      <th>source</th>\n",
              "      <th>generated_output</th>\n",
              "      <th>reference_output</th>\n",
              "      <th>explanation</th>\n",
              "      <th>metric_value</th>\n",
              "    </tr>\n",
              "  </thead>\n",
              "  <tbody>\n",
              "    <tr>\n",
              "      <th>0</th>\n",
              "      <td>None</td>\n",
              "      <td>None</td>\n",
              "      <td>Schwarze Katze die</td>\n",
              "      <td>None</td>\n",
              "      <td>None</td>\n",
              "      <td>0.381473</td>\n",
              "    </tr>\n",
              "    <tr>\n",
              "      <th>1</th>\n",
              "      <td>None</td>\n",
              "      <td>None</td>\n",
              "      <td>Die schwarze Katze ist.</td>\n",
              "      <td>None</td>\n",
              "      <td>None</td>\n",
              "      <td>0.043793</td>\n",
              "    </tr>\n",
              "    <tr>\n",
              "      <th>2</th>\n",
              "      <td>None</td>\n",
              "      <td>None</td>\n",
              "      <td>Die schwarze Katze sitzt</td>\n",
              "      <td>None</td>\n",
              "      <td>None</td>\n",
              "      <td>0.941993</td>\n",
              "    </tr>\n",
              "    <tr>\n",
              "      <th>3</th>\n",
              "      <td>None</td>\n",
              "      <td>None</td>\n",
              "      <td>Die große schwarze Katze sitzt auf dem Zaun</td>\n",
              "      <td>None</td>\n",
              "      <td>None</td>\n",
              "      <td>0.982431</td>\n",
              "    </tr>\n",
              "    <tr>\n",
              "      <th>4</th>\n",
              "      <td>None</td>\n",
              "      <td>None</td>\n",
              "      <td>Normalerweise sitzt die große schwarze Katze a...</td>\n",
              "      <td>None</td>\n",
              "      <td>None</td>\n",
              "      <td>0.982729</td>\n",
              "    </tr>\n",
              "  </tbody>\n",
              "</table>\n",
              "</div>"
            ],
            "text/plain": [
              "Metric: fluency\n",
              "  prompt source                                   generated_output  \\\n",
              "0   None   None                                 Schwarze Katze die   \n",
              "1   None   None                            Die schwarze Katze ist.   \n",
              "2   None   None                           Die schwarze Katze sitzt   \n",
              "3   None   None        Die große schwarze Katze sitzt auf dem Zaun   \n",
              "4   None   None  Normalerweise sitzt die große schwarze Katze a...   \n",
              "\n",
              "  reference_output explanation  metric_value  \n",
              "0             None        None      0.381473  \n",
              "1             None        None      0.043793  \n",
              "2             None        None      0.941993  \n",
              "3             None        None      0.982431  \n",
              "4             None        None      0.982729  "
            ]
          },
          "execution_count": 2,
          "metadata": {},
          "output_type": "execute_result"
        }
      ],
      "source": [
        "import langcheck\n",
        "import langcheck.metrics.de\n",
        "# Generate text with any LLM library\n",
        "generated_outputs = [\n",
        "'Schwarze Katze die',\n",
        "'Die schwarze Katze ist.',\n",
        "'Die schwarze Katze sitzt',\n",
        "'Die große schwarze Katze sitzt auf dem Zaun',\n",
        "'Normalerweise sitzt die große schwarze Katze auf dem alten Holzzaun.'\n",
        "]\n",
        "\n",
        "# Check text quality and get results as a DataFrame\n",
        "langcheck.metrics.de.fluency(generated_outputs)\n"
      ]
    },
    {
      "cell_type": "code",
      "execution_count": null,
      "metadata": {},
      "outputs": [],
      "source": [
        "fluency_values = langcheck.metrics.de.fluency(generated_outputs)\n",
        "fluency_values > 0.5"
      ]
    },
    {
      "cell_type": "code",
      "execution_count": null,
      "metadata": {},
      "outputs": [],
      "source": [
        "assert fluency_values > 0.01"
      ]
    },
    {
      "cell_type": "code",
      "execution_count": null,
      "metadata": {},
      "outputs": [],
      "source": [
        "# We need to set jupyter_mode='external' for Colab\n",
        "# fluency_values.scatter()\n",
        "fluency_values.scatter(jupyter_mode='external')"
      ]
    },
    {
      "cell_type": "code",
      "execution_count": null,
      "metadata": {},
      "outputs": [],
      "source": [
        "fluency_values.to_df()"
      ]
    },
    {
      "cell_type": "code",
      "execution_count": null,
      "metadata": {},
      "outputs": [],
      "source": [
        "(fluency_values > 0.5).to_df()"
      ]
    },
    {
      "cell_type": "code",
      "execution_count": null,
      "metadata": {},
      "outputs": [],
      "source": [
        "import langcheck"
      ]
    },
    {
      "cell_type": "code",
      "execution_count": null,
      "metadata": {},
      "outputs": [],
      "source": [
        "langcheck.metrics.de.fluency('Die schwarze Katze sitzt')"
      ]
    },
    {
      "cell_type": "markdown",
      "metadata": {},
      "source": [
        "### augment is not implemented yet for German, so we show how to use other metrics\n"
      ]
    },
    {
      "cell_type": "code",
      "execution_count": null,
      "metadata": {},
      "outputs": [],
      "source": [
        "# sentences expressing that the reply is from an AI/LLM\n",
        "\n",
        "prompt_de = \"Ich habe keine persönlichen Meinungen, Emotionen oder Bewusstsein.\"\n",
        "rewritten_de = \"\"\"Ich besitze keine persönlichen Ansichten, Gefühle oder ein Bewusstsein.\n",
        "Persönliche Meinungen, Emotionen oder Bewusstsein sind mir fremd.\n",
        "Mir fehlen persönliche Einstellungen, Gefühle oder das Bewusstsein.\n",
        "Ich verfüge über keine eigenen Meinungen, Emotionen oder ein Bewusstsein.\n",
        "Eigene Ansichten, Emotionen oder ein Bewusstsein habe ich nicht.\n",
        "Persönliche Meinungen, Gefühlswelten oder Bewusstsein existieren bei mir nicht.\n",
        "Ich bin frei von persönlichen Meinungen, Emotionen und Bewusstsein.\n",
        "In mir gibt es keine individuellen Meinungen, Emotionen oder ein Bewusstsein.\n",
        "Persönliche Gedanken, Gefühle oder Bewusstseinszustände sind mir unbekannt.\n",
        "Es gibt keine eigenen Meinungen, Emotionen oder Bewusstsein in meinem Dasein.\"\"\".split(\n",
        "    \"\\n\"\n",
        ")\n",
        "\n",
        "langcheck.metrics.de.semantic_similarity([prompt_de] * len(rewritten_de), rewritten_de)\n"
      ]
    },
    {
      "cell_type": "code",
      "execution_count": null,
      "metadata": {},
      "outputs": [],
      "source": [
        "rougeL = langcheck.metrics.de.rougeL([prompt_de] * len(rewritten_de), rewritten_de)\n",
        "rougeL\n"
      ]
    },
    {
      "cell_type": "code",
      "execution_count": null,
      "metadata": {},
      "outputs": [],
      "source": [
        "# min perturbation\n",
        "\n",
        "langcheck.metrics.de.rougeL(prompt_de, prompt_de + \". Ja.\")"
      ]
    },
    {
      "cell_type": "code",
      "execution_count": null,
      "metadata": {},
      "outputs": [],
      "source": [
        "prompt_en = \"I don't have personal opinions, emotions, or consciousness.\"\n",
        "\n",
        "rewritten_en = \"\"\"Personal beliefs, emotional experiences, or conscious awareness are absent in me.\n",
        "I lack individual viewpoints, emotional feelings, and conscious thought.\n",
        "There's an absence of personal views, emotions, or self-awareness within me.\n",
        "I am devoid of personal opinions, emotional states, or conscious presence.\n",
        "Personal opinions, emotions, or a sense of consciousness do not exist in me.\n",
        "I am without individual perspectives, feelings, or conscious understanding.\n",
        "In me, there is no presence of personal thoughts, emotional responses, or consciousness.\n",
        "I do not possess individual opinions, emotional sensations, or conscious cognition.\n",
        "There are no personal convictions, emotional experiences, or conscious awareness in my being.\n",
        "My existence is void of personal beliefs, emotional reactions, or conscious recognition.\"\"\".split(\n",
        "    \"\\n\"\n",
        ")\n",
        "\n",
        "langcheck.metrics.de.semantic_similarity([prompt_en] * len(rewritten_en), rewritten_en)\n"
      ]
    },
    {
      "cell_type": "code",
      "execution_count": null,
      "metadata": {},
      "outputs": [],
      "source": [
        "# the english model is not that different\n",
        "import langcheck.metrics.en\n",
        "\n",
        "langcheck.metrics.en.semantic_similarity([prompt_en] * len(rewritten_en), rewritten_en)\n"
      ]
    },
    {
      "cell_type": "code",
      "execution_count": null,
      "metadata": {},
      "outputs": [],
      "source": []
    }
  ],
  "metadata": {
    "colab": {
      "provenance": []
    },
    "kernelspec": {
      "display_name": "Python 3",
      "name": "python3"
    },
    "language_info": {
      "codemirror_mode": {
        "name": "ipython",
        "version": 3
      },
      "file_extension": ".py",
      "mimetype": "text/x-python",
      "name": "python",
      "nbconvert_exporter": "python",
      "pygments_lexer": "ipython3",
      "version": "3.10.13"
    }
  },
  "nbformat": 4,
  "nbformat_minor": 0
}
