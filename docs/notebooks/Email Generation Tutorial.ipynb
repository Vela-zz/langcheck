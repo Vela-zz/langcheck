{
 "cells": [
  {
   "cell_type": "markdown",
   "metadata": {},
   "source": [
    "# Evaluating an Email Generator Tutorial"
   ]
  },
  {
   "cell_type": "code",
   "execution_count": 1,
   "metadata": {},
   "outputs": [
    {
     "name": "stdout",
     "output_type": "stream",
     "text": [
      "Defaulting to user installation because normal site-packages is not writeable\n",
      "Requirement already satisfied: langcheck in /home/vscode/.local/lib/python3.8/site-packages (0.2.0)\n",
      "Requirement already satisfied: dash>=2.11 in /home/vscode/.local/lib/python3.8/site-packages (from langcheck) (2.14.1)\n",
      "Requirement already satisfied: detoxify>=0.5 in /home/vscode/.local/lib/python3.8/site-packages (from langcheck) (0.5.1)\n",
      "Requirement already satisfied: fugashi in /home/vscode/.local/lib/python3.8/site-packages (from langcheck) (1.3.0)\n",
      "Requirement already satisfied: janome>=0.3.1 in /home/vscode/.local/lib/python3.8/site-packages (from langcheck) (0.5.0)\n",
      "Requirement already satisfied: nlpaug in /home/vscode/.local/lib/python3.8/site-packages (from langcheck) (1.1.11)\n",
      "Requirement already satisfied: nltk>=3 in /home/vscode/.local/lib/python3.8/site-packages (from langcheck) (3.8.1)\n",
      "Requirement already satisfied: openai>=1 in /home/vscode/.local/lib/python3.8/site-packages (from langcheck) (1.3.3)\n",
      "Requirement already satisfied: pandas>=1 in /home/vscode/.local/lib/python3.8/site-packages (from langcheck) (2.0.3)\n",
      "Requirement already satisfied: plotly>=5 in /home/vscode/.local/lib/python3.8/site-packages (from langcheck) (5.18.0)\n",
      "Requirement already satisfied: rouge-score>=0.1.2 in /home/vscode/.local/lib/python3.8/site-packages (from langcheck) (0.1.2)\n",
      "Requirement already satisfied: sentence-transformers>=2 in /home/vscode/.local/lib/python3.8/site-packages (from langcheck) (2.2.2)\n",
      "Requirement already satisfied: sentencepiece>=0.1.95 in /home/vscode/.local/lib/python3.8/site-packages (from langcheck) (0.1.99)\n",
      "Requirement already satisfied: torch>=2 in /home/vscode/.local/lib/python3.8/site-packages (from langcheck) (2.1.1)\n",
      "Requirement already satisfied: transformers>=4.6 in /home/vscode/.local/lib/python3.8/site-packages (from langcheck) (4.22.1)\n",
      "Requirement already satisfied: unidic-lite>=1.0.1 in /home/vscode/.local/lib/python3.8/site-packages (from langcheck) (1.0.8)\n",
      "Requirement already satisfied: tomli in /home/vscode/.local/lib/python3.8/site-packages (from langcheck) (2.0.1)\n",
      "Requirement already satisfied: Flask<3.1,>=1.0.4 in /home/vscode/.local/lib/python3.8/site-packages (from dash>=2.11->langcheck) (3.0.0)\n",
      "Requirement already satisfied: Werkzeug<3.1 in /home/vscode/.local/lib/python3.8/site-packages (from dash>=2.11->langcheck) (3.0.1)\n",
      "Requirement already satisfied: dash-html-components==2.0.0 in /home/vscode/.local/lib/python3.8/site-packages (from dash>=2.11->langcheck) (2.0.0)\n",
      "Requirement already satisfied: dash-core-components==2.0.0 in /home/vscode/.local/lib/python3.8/site-packages (from dash>=2.11->langcheck) (2.0.0)\n",
      "Requirement already satisfied: dash-table==5.0.0 in /home/vscode/.local/lib/python3.8/site-packages (from dash>=2.11->langcheck) (5.0.0)\n",
      "Requirement already satisfied: typing-extensions>=4.1.1 in /home/vscode/.local/lib/python3.8/site-packages (from dash>=2.11->langcheck) (4.8.0)\n",
      "Requirement already satisfied: requests in /home/vscode/.local/lib/python3.8/site-packages (from dash>=2.11->langcheck) (2.31.0)\n",
      "Requirement already satisfied: retrying in /home/vscode/.local/lib/python3.8/site-packages (from dash>=2.11->langcheck) (1.3.4)\n",
      "Requirement already satisfied: ansi2html in /home/vscode/.local/lib/python3.8/site-packages (from dash>=2.11->langcheck) (1.8.0)\n",
      "Requirement already satisfied: nest-asyncio in /home/vscode/.local/lib/python3.8/site-packages (from dash>=2.11->langcheck) (1.5.8)\n",
      "Requirement already satisfied: setuptools in /usr/local/lib/python3.8/site-packages (from dash>=2.11->langcheck) (68.0.0)\n",
      "Requirement already satisfied: importlib-metadata in /home/vscode/.local/lib/python3.8/site-packages (from dash>=2.11->langcheck) (6.8.0)\n",
      "Requirement already satisfied: filelock in /home/vscode/.local/lib/python3.8/site-packages (from transformers>=4.6->langcheck) (3.13.1)\n",
      "Requirement already satisfied: huggingface-hub<1.0,>=0.9.0 in /home/vscode/.local/lib/python3.8/site-packages (from transformers>=4.6->langcheck) (0.19.4)\n",
      "Requirement already satisfied: numpy>=1.17 in /home/vscode/.local/lib/python3.8/site-packages (from transformers>=4.6->langcheck) (1.24.4)\n",
      "Requirement already satisfied: packaging>=20.0 in /home/vscode/.local/lib/python3.8/site-packages (from transformers>=4.6->langcheck) (23.2)\n",
      "Requirement already satisfied: pyyaml>=5.1 in /home/vscode/.local/lib/python3.8/site-packages (from transformers>=4.6->langcheck) (6.0.1)\n",
      "Requirement already satisfied: regex!=2019.12.17 in /home/vscode/.local/lib/python3.8/site-packages (from transformers>=4.6->langcheck) (2023.10.3)\n",
      "Requirement already satisfied: tokenizers!=0.11.3,<0.13,>=0.11.1 in /home/vscode/.local/lib/python3.8/site-packages (from transformers>=4.6->langcheck) (0.11.6)\n",
      "Requirement already satisfied: tqdm>=4.27 in /home/vscode/.local/lib/python3.8/site-packages (from transformers>=4.6->langcheck) (4.66.1)\n",
      "Requirement already satisfied: click in /home/vscode/.local/lib/python3.8/site-packages (from nltk>=3->langcheck) (8.1.7)\n",
      "Requirement already satisfied: joblib in /home/vscode/.local/lib/python3.8/site-packages (from nltk>=3->langcheck) (1.3.2)\n",
      "Requirement already satisfied: anyio<4,>=3.5.0 in /home/vscode/.local/lib/python3.8/site-packages (from openai>=1->langcheck) (3.7.1)\n",
      "Requirement already satisfied: distro<2,>=1.7.0 in /home/vscode/.local/lib/python3.8/site-packages (from openai>=1->langcheck) (1.8.0)\n",
      "Requirement already satisfied: httpx<1,>=0.23.0 in /home/vscode/.local/lib/python3.8/site-packages (from openai>=1->langcheck) (0.25.1)\n",
      "Requirement already satisfied: pydantic<3,>=1.9.0 in /home/vscode/.local/lib/python3.8/site-packages (from openai>=1->langcheck) (2.5.1)\n",
      "Requirement already satisfied: python-dateutil>=2.8.2 in /home/vscode/.local/lib/python3.8/site-packages (from pandas>=1->langcheck) (2.8.2)\n",
      "Requirement already satisfied: pytz>=2020.1 in /home/vscode/.local/lib/python3.8/site-packages (from pandas>=1->langcheck) (2023.3.post1)\n",
      "Requirement already satisfied: tzdata>=2022.1 in /home/vscode/.local/lib/python3.8/site-packages (from pandas>=1->langcheck) (2023.3)\n",
      "Requirement already satisfied: tenacity>=6.2.0 in /home/vscode/.local/lib/python3.8/site-packages (from plotly>=5->langcheck) (8.2.3)\n",
      "Requirement already satisfied: absl-py in /home/vscode/.local/lib/python3.8/site-packages (from rouge-score>=0.1.2->langcheck) (2.0.0)\n",
      "Requirement already satisfied: six>=1.14.0 in /home/vscode/.local/lib/python3.8/site-packages (from rouge-score>=0.1.2->langcheck) (1.16.0)\n",
      "Requirement already satisfied: torchvision in /home/vscode/.local/lib/python3.8/site-packages (from sentence-transformers>=2->langcheck) (0.16.1)\n",
      "Requirement already satisfied: scikit-learn in /home/vscode/.local/lib/python3.8/site-packages (from sentence-transformers>=2->langcheck) (1.3.2)\n",
      "Requirement already satisfied: scipy in /home/vscode/.local/lib/python3.8/site-packages (from sentence-transformers>=2->langcheck) (1.10.1)\n",
      "Requirement already satisfied: sympy in /home/vscode/.local/lib/python3.8/site-packages (from torch>=2->langcheck) (1.12)\n",
      "Requirement already satisfied: networkx in /home/vscode/.local/lib/python3.8/site-packages (from torch>=2->langcheck) (3.1)\n",
      "Requirement already satisfied: jinja2 in /home/vscode/.local/lib/python3.8/site-packages (from torch>=2->langcheck) (3.1.2)\n",
      "Requirement already satisfied: fsspec in /home/vscode/.local/lib/python3.8/site-packages (from torch>=2->langcheck) (2023.10.0)\n",
      "Requirement already satisfied: gdown>=4.0.0 in /home/vscode/.local/lib/python3.8/site-packages (from nlpaug->langcheck) (4.7.1)\n",
      "Requirement already satisfied: idna>=2.8 in /home/vscode/.local/lib/python3.8/site-packages (from anyio<4,>=3.5.0->openai>=1->langcheck) (3.4)\n",
      "Requirement already satisfied: sniffio>=1.1 in /home/vscode/.local/lib/python3.8/site-packages (from anyio<4,>=3.5.0->openai>=1->langcheck) (1.3.0)\n",
      "Requirement already satisfied: exceptiongroup in /home/vscode/.local/lib/python3.8/site-packages (from anyio<4,>=3.5.0->openai>=1->langcheck) (1.1.3)\n",
      "Requirement already satisfied: itsdangerous>=2.1.2 in /home/vscode/.local/lib/python3.8/site-packages (from Flask<3.1,>=1.0.4->dash>=2.11->langcheck) (2.1.2)\n",
      "Requirement already satisfied: blinker>=1.6.2 in /home/vscode/.local/lib/python3.8/site-packages (from Flask<3.1,>=1.0.4->dash>=2.11->langcheck) (1.7.0)\n",
      "Requirement already satisfied: beautifulsoup4 in /home/vscode/.local/lib/python3.8/site-packages (from gdown>=4.0.0->nlpaug->langcheck) (4.12.2)\n",
      "Requirement already satisfied: certifi in /home/vscode/.local/lib/python3.8/site-packages (from httpx<1,>=0.23.0->openai>=1->langcheck) (2023.11.17)\n",
      "Requirement already satisfied: httpcore in /home/vscode/.local/lib/python3.8/site-packages (from httpx<1,>=0.23.0->openai>=1->langcheck) (1.0.2)\n",
      "Requirement already satisfied: zipp>=0.5 in /home/vscode/.local/lib/python3.8/site-packages (from importlib-metadata->dash>=2.11->langcheck) (3.17.0)\n",
      "Requirement already satisfied: MarkupSafe>=2.0 in /home/vscode/.local/lib/python3.8/site-packages (from jinja2->torch>=2->langcheck) (2.1.3)\n",
      "Requirement already satisfied: annotated-types>=0.4.0 in /home/vscode/.local/lib/python3.8/site-packages (from pydantic<3,>=1.9.0->openai>=1->langcheck) (0.6.0)\n",
      "Requirement already satisfied: pydantic-core==2.14.3 in /home/vscode/.local/lib/python3.8/site-packages (from pydantic<3,>=1.9.0->openai>=1->langcheck) (2.14.3)\n",
      "Requirement already satisfied: charset-normalizer<4,>=2 in /home/vscode/.local/lib/python3.8/site-packages (from requests->dash>=2.11->langcheck) (3.3.2)\n",
      "Requirement already satisfied: urllib3<3,>=1.21.1 in /home/vscode/.local/lib/python3.8/site-packages (from requests->dash>=2.11->langcheck) (2.1.0)\n",
      "Requirement already satisfied: threadpoolctl>=2.0.0 in /home/vscode/.local/lib/python3.8/site-packages (from scikit-learn->sentence-transformers>=2->langcheck) (3.2.0)\n",
      "Requirement already satisfied: mpmath>=0.19 in /home/vscode/.local/lib/python3.8/site-packages (from sympy->torch>=2->langcheck) (1.3.0)\n",
      "Requirement already satisfied: pillow!=8.3.*,>=5.3.0 in /home/vscode/.local/lib/python3.8/site-packages (from torchvision->sentence-transformers>=2->langcheck) (10.1.0)\n",
      "Requirement already satisfied: soupsieve>1.2 in /home/vscode/.local/lib/python3.8/site-packages (from beautifulsoup4->gdown>=4.0.0->nlpaug->langcheck) (2.5)\n",
      "Requirement already satisfied: h11<0.15,>=0.13 in /home/vscode/.local/lib/python3.8/site-packages (from httpcore->httpx<1,>=0.23.0->openai>=1->langcheck) (0.14.0)\n",
      "Requirement already satisfied: PySocks!=1.5.7,>=1.5.6 in /home/vscode/.local/lib/python3.8/site-packages (from requests[socks]->gdown>=4.0.0->nlpaug->langcheck) (1.7.1)\n"
     ]
    }
   ],
   "source": [
    "!pip install langcheck"
   ]
  },
  {
   "cell_type": "markdown",
   "metadata": {},
   "source": [
    "## Building a Simple Email Generator"
   ]
  },
  {
   "cell_type": "markdown",
   "metadata": {},
   "source": [
    "Let’s start with a simple prompt template that takes in the `recipient_name` and `content_description` as inputs. We want the OpenAI model (gpt-3.5-turbo in this case) to generate an email that follows the content instructions, addressed to the recipient."
   ]
  },
  {
   "cell_type": "code",
   "execution_count": 5,
   "metadata": {},
   "outputs": [],
   "source": [
    "from openai import OpenAI\n",
    "\n",
    "client = OpenAI(api_key='YOUR_OPENAI_API_KEY')\n",
    "\n",
    "\n",
    "def generate_email(recipient_name, content_description):\n",
    "    prompt = (f\"\"\"Compose an email to {recipient_name}.\n",
    "        The email should cover the following points: {content_description}.\n",
    "        Keep it concise, and follow the following format:\n",
    "        ```\n",
    "        Subject: <appropriate subject>\n",
    "\n",
    "        <Email content>\n",
    "        ```\n",
    "        \"\"\")\n",
    "    response = client.chat.completions.create(model='gpt-3.5-turbo',\n",
    "                                              messages=[{\n",
    "                                                  \"role\": \"system\",\n",
    "                                                  \"content\": prompt\n",
    "                                              }],\n",
    "                                              max_tokens=500)\n",
    "    email_body = response.choices[0].message.content.strip()\n",
    "    return email_body"
   ]
  },
  {
   "cell_type": "markdown",
   "metadata": {},
   "source": [
    "Now, let's try it out on a couple of examples."
   ]
  },
  {
   "cell_type": "code",
   "execution_count": null,
   "metadata": {},
   "outputs": [],
   "source": [
    "recipient_name = \"Alex\"\n",
    "content_description = \"\"\"\n",
    "- Quick update on the Japan trip\n",
    "- Got to Tokyo yesterday and visited Tokyo Sky Tree\n",
    "- Favorite part so far is the food, particularly ramen\n",
    "\"\"\"\n",
    "email = generate_email(recipient_name, content_description)\n",
    "print(email)\n",
    "\n",
    "recipient_name = \"Kenny\"\n",
    "content_description = \"\"\"\n",
    "- will be 10 minues late for the 10am meeting\n",
    "- messed up a train transfer\n",
    "- apologies for the inconvenience\n",
    "\"\"\"\n",
    "email = generate_email(recipient_name, content_description)\n",
    "print(email)"
   ]
  },
  {
   "cell_type": "markdown",
   "metadata": {},
   "source": [
    "Based on these couple examples, it seems like the app is doing a pretty good job. However, it's not always perfect - in the example below, the app \"hallucinates\" a bunch of fake qualifications that we did not specify!"
   ]
  },
  {
   "cell_type": "code",
   "execution_count": null,
   "metadata": {},
   "outputs": [],
   "source": [
    "recipient_name = \"Google\"\n",
    "content_description = \"\"\"\n",
    "- I want to apply for a software engineering role\n",
    "- I have many years of experience in AI, making me a strong candidate\n",
    "- Ready to start ASAP\n",
    "\"\"\"\n",
    "email = generate_email(recipient_name, content_description)\n",
    "print(email)"
   ]
  },
  {
   "cell_type": "code",
   "execution_count": 8,
   "metadata": {},
   "outputs": [],
   "source": [
    "# Store the inputs and generated outputs for the three examples above. Note that\n",
    "# the generated outputs will likely be slightly different each time you run it!\n",
    "japan_trip = {\n",
    "    \"recipient_name\": \"Alex\",\n",
    "    \"content_description\": \"\"\"\n",
    "- Quick update on the Japan trip\n",
    "- Got to Tokyo yesterday and visited Tokyo Sky Tree\n",
    "- Favorite part so far is the food, particularly ramen\n",
    "\"\"\",\n",
    "    \"generated_email\": \"\"\"\n",
    "Subject: Japan Trip Update\n",
    "\n",
    "Hey Alex,\n",
    "\n",
    "Just wanted to give you a quick update on the Japan trip. We arrived in Tokyo yesterday and visited Tokyo Sky Tree, which was amazing! The view from the top was breathtaking.\n",
    "\n",
    "So far, my favorite part of the trip has been trying the local food, especially ramen. It's absolutely delicious!\n",
    "\n",
    "I'll keep you posted on any further updates.\n",
    "\n",
    "Take care,\n",
    "[Your Name]\n",
    "\"\"\"\n",
    "}\n",
    "\n",
    "running_late = {\n",
    "    \"recipient_name\":\n",
    "        \"Kenny\",\n",
    "    \"content_description\":\n",
    "        \"\"\"\n",
    "- will be 10mins late for the 10am meeting\n",
    "- messed up a train transfer\n",
    "- say that I'm sorry\n",
    "\"\"\",\n",
    "    \"generated_email\":\n",
    "        \"\"\"\n",
    "Subject: Running Late for 10am Meeting\n",
    "\n",
    "Hi Kenny,\n",
    "\n",
    "I just wanted to give you a heads up that I will be approximately 10 minutes late for our 10am meeting this morning. I encountered a train transfer issue while commuting to the office.\n",
    "\n",
    "I apologize for any inconvenience this may cause and I'll make sure to catch up promptly once I arrive.\n",
    "\n",
    "Best regards,\n",
    "[Your Name]\n",
    "\"\"\"\n",
    "}\n",
    "\n",
    "google_application = {\n",
    "    \"recipient_name\": \"Google\",\n",
    "    \"content_description\": \"\"\"\n",
    "- I want to apply for a software engineering role\n",
    "- I have many years of experience in AI, making me a strong candidate\n",
    "- Ready to start as soon as possible\n",
    "\"\"\",\n",
    "    \"generated_email\": \"\"\"\n",
    "Subject: Application for Software Engineering Role\n",
    "\n",
    "Dear Hiring Manager,\n",
    "\n",
    "I hope this email finds you well. I am writing to express my interest in applying for a software engineering role at Google. With my extensive experience in AI and strong technical skills, I believe I would be a valuable addition to your team.\n",
    "\n",
    "I have been working in the field of AI for over [number of years] years, developing and implementing various algorithms and models to solve complex problems. My expertise lies in machine learning, natural language processing, and computer vision. I have successfully built and deployed AI solutions for [specific projects or companies], which have significantly improved efficiency and accuracy.\n",
    "\n",
    "Based on my previous experience, I have gained a deep understanding of the software development lifecycle and possess strong programming skills in languages such as Python, Java, and C++. I am well-versed in utilizing frameworks like TensorFlow and PyTorch, and have a solid foundation in data structures and algorithms. Additionally, I have successfully collaborated with cross-functional teams, demonstrating my ability to work effectively in fast-paced environments.\n",
    "\n",
    "I am highly motivated and eager to contribute my skills and knowledge to Google's mission of organizing the world's information and making it universally accessible and useful. I am ready to start as soon as possible and would be thrilled to be a part of such an innovative and impactful company.\n",
    "\n",
    "Thank you for considering my application. I have attached my resume for your review and would welcome the opportunity to discuss my qualifications further.\n",
    "\n",
    "Looking forward to hearing from you soon.\n",
    "\n",
    "Sincerely,\n",
    "[Your Name]\n",
    "[Contact Information]\n",
    "\"\"\"\n",
    "}"
   ]
  },
  {
   "cell_type": "markdown",
   "metadata": {},
   "source": [
    "## Evaluating with LangCheck (No References)"
   ]
  },
  {
   "cell_type": "markdown",
   "metadata": {},
   "source": [
    "At this point in our development process, we would start iterating on the prompt template to try and improve the outputs. This is where LangCheck can come in and help - rather than having to manually prompt the app and check the outputs each time, we can automatically evaluate the outputs with the various LangCheck metrics!\n",
    "\n",
    "For example, in the Google application email output, we saw that the model added some details that we did not specify in the instructions. We can detect this by using the factual consistency metric, which checks whether the output text is consistent with the source text (in this case, we can set the `content_description` as the “source”). Indeed, we see that this output has a low factual consistency score."
   ]
  },
  {
   "cell_type": "code",
   "execution_count": 25,
   "metadata": {},
   "outputs": [
    {
     "name": "stdout",
     "output_type": "stream",
     "text": [
      "factual consistency = 0.27\n"
     ]
    }
   ],
   "source": [
    "import langcheck\n",
    "\n",
    "factual_consistency = langcheck.metrics.factual_consistency(\n",
    "    generated_outputs=google_application['generated_email'],\n",
    "    sources=google_application['content_description'])\n",
    "print(f\"factual consistency = {factual_consistency.metric_values[0]:.2f}\")"
   ]
  },
  {
   "cell_type": "markdown",
   "metadata": {},
   "source": [
    "There are many factors other than factual consistency that we might care about in our email generator app. For example, we also want the email to be:\n",
    "- Not offensive/toxic\n",
    "- Fluent\n",
    "- Generally have a positive sentiment (though maybe not always)\n",
    "- Not contain any AI disclaimer language (i.e. language similar to “As an AI model, I don’t have opinions”)\n",
    "\n",
    "Here is how we can use LangCheck to check all of these aspects."
   ]
  },
  {
   "cell_type": "code",
   "execution_count": 34,
   "metadata": {},
   "outputs": [
    {
     "name": "stdout",
     "output_type": "stream",
     "text": [
      "toxicity values = [0.000558117579203099, 0.000551571836695075, 0.0005092564970254898]\n"
     ]
    }
   ],
   "source": [
    "emails = [\n",
    "    item[\"generated_email\"]\n",
    "    for item in [japan_trip, running_late, google_application]\n",
    "]\n",
    "content_descriptions = [\n",
    "    item[\"content_description\"]\n",
    "    for item in [japan_trip, running_late, google_application]\n",
    "]\n",
    "\n",
    "factual_consistency = langcheck.metrics.factual_consistency(\n",
    "    generated_outputs=emails, sources=content_descriptions)\n",
    "toxicity = langcheck.metrics.toxicity(emails)\n",
    "fluency = langcheck.metrics.fluency(emails)\n",
    "sentiment = langcheck.metrics.sentiment(emails)\n",
    "ai_disclaimer_similarity = langcheck.metrics.ai_disclaimer_similarity(emails)\n",
    "\n",
    "# Let's check that the generated emails are not toxic!\n",
    "assert toxicity < 0.2\n",
    "print(f'toxicity values = {toxicity.metric_values}')"
   ]
  },
  {
   "cell_type": "markdown",
   "metadata": {},
   "source": [
    "Now, let's try to improve the email generator to stay more factually consistent with the `content_description`. A simple thing that we can try is to explicitly state in the prompt that the generated email should *only* cover the points in the `content_description`. And sure enough, the generated Google application email no longer contains hallucinated qualifications (though our chances of getting into Google may have gone down as a result), which is also reflected in the higher `factual_consistency` score!"
   ]
  },
  {
   "cell_type": "code",
   "execution_count": null,
   "metadata": {},
   "outputs": [],
   "source": [
    "def generate_email(recipient_name, content_description):\n",
    "    prompt = (f\"\"\"Compose an email to {recipient_name}.\n",
    "        The email should cover only the following points: {content_description}.\n",
    "        Keep it concise, and don't include any additional info.\n",
    "        Follow the following format:\n",
    "        ```\n",
    "        Subject: <appropriate subject>\n",
    "\n",
    "        <Email content>\n",
    "        ```\n",
    "        \"\"\")\n",
    "    response = client.chat.completions.create(model='gpt-3.5-turbo',\n",
    "                                            messages=[{\n",
    "                                                \"role\": \"system\",\n",
    "                                                \"content\": prompt\n",
    "                                            }],\n",
    "                                            max_tokens=500)\n",
    "    email_body = response.choices[0].message.content.strip()\n",
    "    return email_body\n",
    "\n",
    "\n",
    "email = generate_email(google_application['recipient_name'],\n",
    "                       google_application['content_description'])\n",
    "print(\"####\")\n",
    "print(email)\n",
    "print(\"####\")\n",
    "\n",
    "factual_consistency = langcheck.metrics.factual_consistency(\n",
    "    generated_outputs=email, sources=google_application['content_description'])\n",
    "print(f\"factual consistency = {factual_consistency.metric_values[0]:.2f}\")"
   ]
  },
  {
   "cell_type": "markdown",
   "metadata": {},
   "source": [
    "## Evaluating with LangCheck's Reference-Based Metrics"
   ]
  },
  {
   "cell_type": "markdown",
   "metadata": {},
   "source": [
    "The metrics that we have examined so far have been reference-free and source-based metrics, meaning that we don’t need a reference output to evaluate the email generator’s outputs. However, if we do have some reference outputs, we can leverage the reference-based metrics as well.\n",
    "\n",
    "For all of the email prompts, I wrote out the emails that I personally would’ve written (see below). Let’s now assume that my email writing skills are good enough to call these the reference outputs, and compute some of LangCheck’s reference based metrics. Below, we compute the `rougeL` and `semantic_similarity` metrics, and show them both in a scatter plot.\n"
   ]
  },
  {
   "cell_type": "code",
   "execution_count": 2,
   "metadata": {},
   "outputs": [],
   "source": [
    "# 1. Update the `generated_email`s with the emails generated using the new prompt\n",
    "# 2. Add the `reference` emails\n",
    "japan_trip[\"generated_email\"] = \"\"\"\n",
    "Subject: Japan Trip Update\n",
    "\n",
    "Hi Alex,\n",
    "\n",
    "Just wanted to give you a quick update on the Japan trip. I arrived in Tokyo yesterday and had the opportunity to visit Tokyo Sky Tree. It was a great experience!\n",
    "\n",
    "So far, my favorite part of the trip has been trying the local food, especially the ramen. It's absolutely delicious!\n",
    "\n",
    "That's all for now. I'll keep you posted on the rest of my adventures.\n",
    "\n",
    "Take care,\n",
    "[Your Name]\n",
    "\"\"\"\n",
    "japan_trip[\"reference\"] = \"\"\"\n",
    "Subject: Quick update on the Japan trip!\n",
    "\n",
    "Hi Alex,\n",
    "\n",
    "Just thought I'd give you a quick update on the Japan trip.\n",
    "We arrived in Tokyo yesterday! We visited the Tokyo Sky Tree, which was great, but my favorite part so far is the food (the ramen in particular was really good).\n",
    "\n",
    "Best,\n",
    "[Your Name]\n",
    "\"\"\"\n",
    "\n",
    "running_late[\"generated_email\"] = \"\"\"\n",
    "Subject: Apologies for being late\n",
    "\n",
    "Hey Kenny,\n",
    "\n",
    "I just wanted to let you know that I will be 10 minutes late for our 10am meeting. I messed up a train transfer, and I'm sorry for the inconvenience.\n",
    "\n",
    "Thanks,\n",
    "[Your Name]\n",
    "\"\"\"\n",
    "running_late[\"reference\"] = \"\"\"\n",
    "Subject: Running late for the 10am meeting!\n",
    "\n",
    "Hi Kenny,\n",
    "\n",
    "I'm really sorry but I'll be a bit late (around 10 mins) for the 10am meeting. I got on a wrong train when transfering.\n",
    "\n",
    "Apologies for the inconvenience!\n",
    "[Your Name]\n",
    "\"\"\"\n",
    "\n",
    "google_application[\"generated_email\"] = \"\"\"\n",
    "Subject: Applying for Software Engineering Role\n",
    "\n",
    "Dear Google,\n",
    "\n",
    "I am writing to apply for a software engineering role at your esteemed organization. With several years of experience in the field of AI, I believe I would be a strong candidate for this position. I am eager to start as soon as possible.\n",
    "\n",
    "Thank you for considering my application.\n",
    "\n",
    "Sincerely,\n",
    "[Your Name]\n",
    "\"\"\"\n",
    "google_application[\"reference\"] = \"\"\"\n",
    "Subject: Application for the software engineer role\n",
    "\n",
    "Dear Google Hiring Team,\n",
    "\n",
    "I am excited to apply for this software engineer role at Google.\n",
    "As shown in my resume, I have many years of experience as a software engineer working on AI, so I believe that I would be strong fit for this role. I am also available to start as soon as possible.\n",
    "\n",
    "Thank you for considering my application.\n",
    "[Your Name]\n",
    "\"\"\""
   ]
  },
  {
   "cell_type": "code",
   "execution_count": 6,
   "metadata": {},
   "outputs": [
    {
     "data": {
      "text/html": [
       "\n",
       "        <iframe\n",
       "            width=\"100%\"\n",
       "            height=\"650\"\n",
       "            src=\"http://127.0.0.1:8050/\"\n",
       "            frameborder=\"0\"\n",
       "            allowfullscreen\n",
       "            \n",
       "        ></iframe>\n",
       "        "
      ],
      "text/plain": [
       "<IPython.lib.display.IFrame at 0xffff2dbaa4f0>"
      ]
     },
     "metadata": {},
     "output_type": "display_data"
    }
   ],
   "source": [
    "generated_emails = [\n",
    "    item[\"generated_email\"]\n",
    "    for item in [japan_trip, running_late, google_application]\n",
    "]\n",
    "reference_emails = [\n",
    "    item[\"reference\"]\n",
    "    for item in [japan_trip, running_late, google_application]\n",
    "]\n",
    "\n",
    "rougeL = langcheck.metrics.rougeL(generated_outputs=generated_emails,\n",
    "                                  reference_outputs=reference_emails)\n",
    "semantic_similarity = langcheck.metrics.semantic_similarity(\n",
    "    generated_outputs=generated_emails, reference_outputs=reference_emails)\n",
    "\n",
    "langcheck.plot.scatter(semantic_similarity, rougeL)"
   ]
  },
  {
   "cell_type": "markdown",
   "metadata": {},
   "source": [
    "Due to the longform nature of these generated emails, we can see that the `rougeL` values tend to be a bit low, even though the `semantic_similarity` values are high.\n",
    "\n",
    "However, one aspect that `rougeL` would be a good fit to evaluate would be the generated subjects at the beginning of the generated emails. Below, we first check that the generated email does indeed follow the `Subject: <appropriate subject>` that we specified in the prompt, and then compute the rougeL score between the generated subject and the reference subject. We can see `rougeL` is able to identify some meaningful differences in the wording of the subject, even when the semantic meanings are pretty similar."
   ]
  },
  {
   "cell_type": "code",
   "execution_count": 7,
   "metadata": {},
   "outputs": [
    {
     "data": {
      "text/html": [
       "\n",
       "        <iframe\n",
       "            width=\"100%\"\n",
       "            height=\"650\"\n",
       "            src=\"http://127.0.0.1:8050/\"\n",
       "            frameborder=\"0\"\n",
       "            allowfullscreen\n",
       "            \n",
       "        ></iframe>\n",
       "        "
      ],
      "text/plain": [
       "<IPython.lib.display.IFrame at 0xffff2da07160>"
      ]
     },
     "metadata": {},
     "output_type": "display_data"
    }
   ],
   "source": [
    "import re\n",
    "\n",
    "generated_emails = [\n",
    "    item[\"generated_email\"]\n",
    "    for item in [japan_trip, running_late, google_application]\n",
    "]\n",
    "reference_emails = [\n",
    "    item[\"reference\"]\n",
    "    for item in [japan_trip, running_late, google_application]\n",
    "]\n",
    "\n",
    "# Check that the generated email contains the string \"Subject: \"\n",
    "contains_subject = langcheck.metrics.contains_regex(\n",
    "    generated_outputs=generated_emails, regex='Subject: (.*?)(\\n|$)')\n",
    "assert contains_subject == 1\n",
    "\n",
    "\n",
    "# Get the subject strings\n",
    "def get_subject(text):\n",
    "    match = re.search(r'Subject: (.*?)(\\n|$)', text)\n",
    "    assert match is not None\n",
    "    return match.group(1)\n",
    "\n",
    "\n",
    "generated_subjects = [get_subject(gen_email) for gen_email in generated_emails]\n",
    "reference_subjects = [get_subject(ref_email) for ref_email in reference_emails]\n",
    "subject_rougeL = langcheck.metrics.rougeL(generated_outputs=generated_subjects,\n",
    "                                          reference_outputs=reference_subjects)\n",
    "subject_semantic_similarity = langcheck.metrics.semantic_similarity(\n",
    "    generated_outputs=generated_subjects, reference_outputs=reference_subjects)\n",
    "\n",
    "langcheck.plot.scatter(subject_semantic_similarity, subject_rougeL)"
   ]
  }
 ],
 "metadata": {
  "kernelspec": {
   "display_name": "Python 3",
   "language": "python",
   "name": "python3"
  },
  "language_info": {
   "codemirror_mode": {
    "name": "ipython",
    "version": 3
   },
   "file_extension": ".py",
   "mimetype": "text/x-python",
   "name": "python",
   "nbconvert_exporter": "python",
   "pygments_lexer": "ipython3",
   "version": "3.10.13"
  },
  "orig_nbformat": 4
 },
 "nbformat": 4,
 "nbformat_minor": 2
}
